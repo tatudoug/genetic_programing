{
 "cells": [
  {
   "cell_type": "code",
   "execution_count": 1,
   "id": "129c980e",
   "metadata": {
    "_cell_guid": "b1076dfc-b9ad-4769-8c92-a6c4dae69d19",
    "_uuid": "8f2839f25d086af736a60e9eeb907d3b93b6e0e5",
    "execution": {
     "iopub.execute_input": "2022-09-15T17:23:50.218675Z",
     "iopub.status.busy": "2022-09-15T17:23:50.217976Z",
     "iopub.status.idle": "2022-09-15T17:23:51.924145Z",
     "shell.execute_reply": "2022-09-15T17:23:51.922379Z"
    },
    "papermill": {
     "duration": 1.724785,
     "end_time": "2022-09-15T17:23:51.927681",
     "exception": false,
     "start_time": "2022-09-15T17:23:50.202896",
     "status": "completed"
    },
    "tags": []
   },
   "outputs": [],
   "source": [
    "# This Python 3 environment comes with many helpful analytics libraries installed\n",
    "# It is defined by the kaggle/python Docker image: https://github.com/kaggle/docker-python\n",
    "# For example, here's several helpful packages to load\n",
    "\n",
    "import numpy as np # linear algebra\n",
    "import pandas as pd # data processing, CSV file I/O (e.g. pd.read_csv)\n",
    "import seaborn as sns\n",
    "import matplotlib.pyplot as plt\n",
    "from sklearn.preprocessing import QuantileTransformer\n",
    "from genetic import GeneticPrograming \n",
    "\n",
    "np.random.seed(seed=21)\n",
    "# Input data files are available in the read-only \"../input/\" directory\n",
    "# For example, running this (by clicking run or pressing Shift+Enter) will list all files under the input directory\n",
    "\n",
    "train_df = pd.read_csv('./data/train.csv')\n",
    "test_df = pd.read_csv('./data/test.csv')\n",
    "\n",
    "# You can write up to 20GB to the current directory (/kaggle/working/) that gets preserved as output when you create a version using \"Save & Run All\" \n",
    "# You can also write temporary files to /kaggle/temp/, but they won't be saved outside of the current session"
   ]
  },
  {
   "cell_type": "markdown",
   "id": "7e694279",
   "metadata": {
    "papermill": {
     "duration": 0.00963,
     "end_time": "2022-09-15T17:23:51.947769",
     "exception": false,
     "start_time": "2022-09-15T17:23:51.938139",
     "status": "completed"
    },
    "tags": []
   },
   "source": [
    "# Introduction\n",
    "The idea of this notebook is to use genetic programming to create weak learners used in a GBM.\n",
    "\n",
    "Here is the wiki explanation about genetic programming\n",
    "https://en.wikipedia.org/wiki/Genetic_programming\n",
    "\n",
    "But in a few lines we can explain as:\n",
    "\n",
    "* The model is a tree structure which is evolved through time.\n",
    "\n",
    "* The nodes are functions and the terminal nodes (leaves) can be constants or variables.\n",
    "\n",
    "* The evolution process is carried out with mutation and crossover of the individuals in a population.\n",
    "\n",
    "The algorithm inspiration is the genetic evolution from where the name is based (genetic programming).\n",
    "\n",
    "I hid the code below to keep the notebook more clean"
   ]
  },
  {
   "cell_type": "markdown",
   "id": "4c893d84",
   "metadata": {
    "papermill": {
     "duration": 0.009663,
     "end_time": "2022-09-15T17:23:52.129787",
     "exception": false,
     "start_time": "2022-09-15T17:23:52.120124",
     "status": "completed"
    },
    "tags": []
   },
   "source": [
    "# Example 1 - Sine\n",
    "First we will test the code to approximate a sine function"
   ]
  },
  {
   "cell_type": "code",
   "execution_count": 2,
   "id": "996035cd",
   "metadata": {
    "execution": {
     "iopub.execute_input": "2022-09-15T17:23:52.154245Z",
     "iopub.status.busy": "2022-09-15T17:23:52.153644Z",
     "iopub.status.idle": "2022-09-15T17:23:52.390954Z",
     "shell.execute_reply": "2022-09-15T17:23:52.389941Z"
    },
    "papermill": {
     "duration": 0.25248,
     "end_time": "2022-09-15T17:23:52.393872",
     "exception": false,
     "start_time": "2022-09-15T17:23:52.141392",
     "status": "completed"
    },
    "tags": []
   },
   "outputs": [
    {
     "data": {
      "image/png": "[encoded data removed]",
      "text/plain": [
       "<Figure size 432x288 with 1 Axes>"
      ]
     },
     "metadata": {
      "needs_background": "light"
     },
     "output_type": "display_data"
    }
   ],
   "source": [
    "x1 = np.arange(0.1,np.pi*2,0.1)\n",
    "y1 = np.sin(x1)\n",
    "\n",
    "# plot best solutio\n",
    "\n",
    "plt.plot(x1,y1)\n",
    "plt.ylabel('sin function')\n",
    "\n",
    "plt.show()"
   ]
  },
  {
   "cell_type": "markdown",
   "id": "409148bb",
   "metadata": {
    "papermill": {
     "duration": 0.009969,
     "end_time": "2022-09-15T17:23:52.415033",
     "exception": false,
     "start_time": "2022-09-15T17:23:52.405064",
     "status": "completed"
    },
    "tags": []
   },
   "source": [
    "# Parameters"
   ]
  },
  {
   "cell_type": "markdown",
   "id": "cc6fb612",
   "metadata": {
    "papermill": {
     "duration": 0.009978,
     "end_time": "2022-09-15T17:23:52.435602",
     "exception": false,
     "start_time": "2022-09-15T17:23:52.425624",
     "status": "completed"
    },
    "tags": []
   },
   "source": [
    "We need to set the <b>functions, constants and variables</b> parameters which will be used during the evolution process and the control parameters  <b>deep of the tree structure</b>, deep allowed for the tree to grow, <b> the number of individuals, </b> that will be evolved, and the  <b>number of generations </b> set to the algorithm run."
   ]
  },
  {
   "cell_type": "markdown",
   "id": "61fbe388",
   "metadata": {
    "papermill": {
     "duration": 0.010053,
     "end_time": "2022-09-15T17:23:52.457706",
     "exception": false,
     "start_time": "2022-09-15T17:23:52.447653",
     "status": "completed"
    },
    "tags": []
   },
   "source": [
    "First we define the functions <b>(func)</b>,constants<b>(c)</b> and variavles<b>(v)</b>"
   ]
  },
  {
   "cell_type": "code",
   "execution_count": 3,
   "id": "71feccd7",
   "metadata": {
    "execution": {
     "iopub.execute_input": "2022-09-15T17:23:52.481514Z",
     "iopub.status.busy": "2022-09-15T17:23:52.480516Z",
     "iopub.status.idle": "2022-09-15T17:23:52.487871Z",
     "shell.execute_reply": "2022-09-15T17:23:52.486818Z"
    },
    "papermill": {
     "duration": 0.02274,
     "end_time": "2022-09-15T17:23:52.490755",
     "exception": false,
     "start_time": "2022-09-15T17:23:52.468015",
     "status": "completed"
    },
    "tags": []
   },
   "outputs": [],
   "source": [
    "#functions\n",
    "func = [np.add, np.subtract, np.multiply]#, np.hypot, np.arctan2, np.logaddexp,np.minimum,np.maximum]\n",
    "# variables - normalize between 0 e 1 (to imporve convergence time)\n",
    "x1 = x1/(2*np.pi)\n",
    "v = [x1]\n",
    "c=[-2,-0.5,-0.1,0.1,0.5,2]"
   ]
  },
  {
   "cell_type": "markdown",
   "id": "158abb67",
   "metadata": {
    "papermill": {
     "duration": 0.009929,
     "end_time": "2022-09-15T17:23:52.511361",
     "exception": false,
     "start_time": "2022-09-15T17:23:52.501432",
     "status": "completed"
    },
    "tags": []
   },
   "source": [
    "Then the control parameters maxDeep <b>10</b>, number of individuals <b>60</b> and number of generations <b>1000</b>"
   ]
  },
  {
   "cell_type": "code",
   "execution_count": 4,
   "id": "9ff558fb",
   "metadata": {
    "execution": {
     "iopub.execute_input": "2022-09-15T17:23:52.535293Z",
     "iopub.status.busy": "2022-09-15T17:23:52.534346Z",
     "iopub.status.idle": "2022-09-15T17:25:39.227347Z",
     "shell.execute_reply": "2022-09-15T17:25:39.225317Z"
    },
    "papermill": {
     "duration": 106.709482,
     "end_time": "2022-09-15T17:25:39.231343",
     "exception": false,
     "start_time": "2022-09-15T17:23:52.521861",
     "status": "completed"
    },
    "tags": []
   },
   "outputs": [],
   "source": [
    "maxDeep = 10\n",
    "n_individuals = 60\n",
    "generations = 1000\n",
    "\n",
    "gclass = GeneticPrograming(2, maxDeep,v,func,c,y1)\n",
    "gclass.run(n_individuals,generations)"
   ]
  },
  {
   "cell_type": "code",
   "execution_count": 5,
   "id": "fa5490c9",
   "metadata": {
    "execution": {
     "iopub.execute_input": "2022-09-15T17:25:39.256235Z",
     "iopub.status.busy": "2022-09-15T17:25:39.255718Z",
     "iopub.status.idle": "2022-09-15T17:25:39.924472Z",
     "shell.execute_reply": "2022-09-15T17:25:39.923158Z"
    },
    "papermill": {
     "duration": 0.684151,
     "end_time": "2022-09-15T17:25:39.927177",
     "exception": false,
     "start_time": "2022-09-15T17:25:39.243026",
     "status": "completed"
    },
    "tags": []
   },
   "outputs": [
    {
     "data": {
      "image/png": "[encoded data removed]",
      "text/plain": [
       "<Figure size 432x288 with 1 Axes>"
      ]
     },
     "metadata": {
      "needs_background": "light"
     },
     "output_type": "display_data"
    },
    {
     "data": {
      "image/png": "[encoded data removed]",
      "text/plain": [
       "<Figure size 432x288 with 1 Axes>"
      ]
     },
     "metadata": {
      "needs_background": "light"
     },
     "output_type": "display_data"
    },
    {
     "data": {
      "image/png": "[encoded data removed]",
      "text/plain": [
       "<Figure size 432x288 with 1 Axes>"
      ]
     },
     "metadata": {
      "needs_background": "light"
     },
     "output_type": "display_data"
    }
   ],
   "source": [
    "plt.plot(gclass.best[3:])\n",
    "plt.title('Error evolution of the best individual')\n",
    "plt.ylabel('MAE of the best individual')\n",
    "plt.xlabel('Generations')\n",
    "plt.show()\n",
    "plt.plot(gclass.pop[3:],'--')\n",
    "plt.title('Error evolution of the population')\n",
    "plt.ylabel('MAE of the population')\n",
    "plt.xlabel('Generations')\n",
    "\n",
    "plt.show()\n",
    "\n",
    "\n",
    "# plot best solutio\n",
    "best = np.argsort(gclass.solEval)[0]\n",
    "y_hat = gclass.evaluateTree(gclass.candidates[best])\n",
    "plt.plot(y1)\n",
    "plt.title('Aproximation function and estimated')\n",
    "plt.ylabel(' y - sin(x)')\n",
    "plt.xlabel('x')\n",
    "plt.plot(y_hat,'--')\n",
    "plt.show()"
   ]
  },
  {
   "cell_type": "markdown",
   "id": "e2685a40",
   "metadata": {
    "papermill": {
     "duration": 0.011319,
     "end_time": "2022-09-15T17:25:39.949907",
     "exception": false,
     "start_time": "2022-09-15T17:25:39.938588",
     "status": "completed"
    },
    "tags": []
   },
   "source": [
    "In the figures above it is possible to see the evolution of the best individual, figure 1, (which has some steps during the generations) and the evolution of the population, figure 2, which tends to go in the direction of the best individual due the evolution pressure (expressed in the fitness function, in this case MAE) in the genetic algorithm . The figure 3 has the fitted function in orange lines and the original sine function in blue.\n",
    "\n",
    "The crossover between individuals will keep the best \"genes\", here sections of the tree model, passing at each epoch. And the mutation factor will incorpore new \"genes\" in the population to keep diversity."
   ]
  },
  {
   "cell_type": "markdown",
   "id": "34525183",
   "metadata": {
    "papermill": {
     "duration": 0.011046,
     "end_time": "2022-09-15T17:25:39.972263",
     "exception": false,
     "start_time": "2022-09-15T17:25:39.961217",
     "status": "completed"
    },
    "tags": []
   },
   "source": [
    "Other possible visualization is the model structure, a matrix which encodes all necessary information to calculate the fitted function."
   ]
  },
  {
   "cell_type": "code",
   "execution_count": 6,
   "id": "7704339c",
   "metadata": {
    "execution": {
     "iopub.execute_input": "2022-09-15T17:25:39.998756Z",
     "iopub.status.busy": "2022-09-15T17:25:39.997827Z",
     "iopub.status.idle": "2022-09-15T17:25:40.007970Z",
     "shell.execute_reply": "2022-09-15T17:25:40.006556Z"
    },
    "papermill": {
     "duration": 0.02654,
     "end_time": "2022-09-15T17:25:40.010641",
     "exception": false,
     "start_time": "2022-09-15T17:25:39.984101",
     "status": "completed"
    },
    "tags": []
   },
   "outputs": [
    {
     "data": {
      "text/plain": [
       "array([[  2,   2,   2,   1, 390],\n",
       "       [  0,   2,   2,   1,   2],\n",
       "       [  2,   1,   0,   0,   5],\n",
       "       ...,\n",
       "       [  0,   0,   1,   4,   0],\n",
       "       [  2,   0,   2,   5,   1],\n",
       "       [  1,   0,   1,   4,   0]])"
      ]
     },
     "execution_count": 6,
     "metadata": {},
     "output_type": "execute_result"
    }
   ],
   "source": [
    "gclass.candidates[best] # this is the matrix wich represents the best fitted individual"
   ]
  },
  {
   "cell_type": "markdown",
   "id": "d3746c35",
   "metadata": {
    "execution": {
     "iopub.execute_input": "2022-09-10T23:28:38.803772Z",
     "iopub.status.busy": "2022-09-10T23:28:38.803297Z",
     "iopub.status.idle": "2022-09-10T23:28:38.835887Z",
     "shell.execute_reply": "2022-09-10T23:28:38.834298Z",
     "shell.execute_reply.started": "2022-09-10T23:28:38.803680Z"
    },
    "papermill": {
     "duration": 0.011444,
     "end_time": "2022-09-15T17:25:40.033496",
     "exception": false,
     "start_time": "2022-09-15T17:25:40.022052",
     "status": "completed"
    },
    "tags": []
   },
   "source": [
    "#  Competiton data\n",
    "Now let`s test it on the competition data"
   ]
  },
  {
   "cell_type": "markdown",
   "id": "0f180d54",
   "metadata": {
    "papermill": {
     "duration": 0.011265,
     "end_time": "2022-09-15T17:25:40.056218",
     "exception": false,
     "start_time": "2022-09-15T17:25:40.044953",
     "status": "completed"
    },
    "tags": []
   },
   "source": [
    "Preprocessing the inputs"
   ]
  },
  {
   "cell_type": "code",
   "execution_count": 7,
   "id": "92697497",
   "metadata": {
    "execution": {
     "iopub.execute_input": "2022-09-15T17:25:40.302610Z",
     "iopub.status.busy": "2022-09-15T17:25:40.302065Z",
     "iopub.status.idle": "2022-09-15T17:25:40.398403Z",
     "shell.execute_reply": "2022-09-15T17:25:40.397002Z"
    },
    "papermill": {
     "duration": 0.11372,
     "end_time": "2022-09-15T17:25:40.401837",
     "exception": false,
     "start_time": "2022-09-15T17:25:40.288117",
     "status": "completed"
    },
    "tags": []
   },
   "outputs": [],
   "source": [
    "train_df['date'] = pd.to_datetime(train_df['date'], format='%Y-%m-%d')\n",
    "train_df['year'] = train_df['date'].dt.year\n",
    "train_df['month'] = train_df['date'].dt.month\n",
    "train_df['day'] = train_df['date'].dt.day\n",
    "train_df['day_of_week'] = train_df['date'].dt.day_of_week\n",
    "train_df['day_of_year'] = train_df['date'].dt.day_of_year\n",
    "\n",
    "test_df['date'] = pd.to_datetime(test_df['date'], format='%Y-%m-%d')\n",
    "test_df['year'] = test_df['date'].dt.year\n",
    "test_df['month'] = test_df['date'].dt.month\n",
    "test_df['day'] = test_df['date'].dt.day\n",
    "test_df['day_of_week'] = test_df['date'].dt.day_of_week\n",
    "test_df['day_of_year'] = test_df['date'].dt.day_of_year\n"
   ]
  },
  {
   "cell_type": "markdown",
   "id": "00cf21e4",
   "metadata": {
    "papermill": {
     "duration": 0.011647,
     "end_time": "2022-09-15T17:25:40.425415",
     "exception": false,
     "start_time": "2022-09-15T17:25:40.413768",
     "status": "completed"
    },
    "tags": []
   },
   "source": [
    "Normalization of the output \n",
    "(there is a huge modification in the data regime that we have to deal with it)."
   ]
  },
  {
   "cell_type": "code",
   "execution_count": 8,
   "id": "d8ef7c0d",
   "metadata": {
    "execution": {
     "iopub.execute_input": "2022-09-15T17:25:40.452111Z",
     "iopub.status.busy": "2022-09-15T17:25:40.451291Z",
     "iopub.status.idle": "2022-09-15T17:25:40.895474Z",
     "shell.execute_reply": "2022-09-15T17:25:40.893365Z"
    },
    "papermill": {
     "duration": 0.461454,
     "end_time": "2022-09-15T17:25:40.898894",
     "exception": false,
     "start_time": "2022-09-15T17:25:40.437440",
     "status": "completed"
    },
    "tags": []
   },
   "outputs": [
    {
     "data": {
      "text/plain": [
       "<AxesSubplot:xlabel='year', ylabel='num_sold'>"
      ]
     },
     "execution_count": 8,
     "metadata": {},
     "output_type": "execute_result"
    },
    {
     "data": {
      "image/png": "[encoded data removed]",
      "text/plain": [
       "<Figure size 432x288 with 1 Axes>"
      ]
     },
     "metadata": {
      "needs_background": "light"
     },
     "output_type": "display_data"
    }
   ],
   "source": [
    "yy = train_df[['year','country','num_sold']].groupby(['year','country']).sum().reset_index().sort_values(by=['country','year'])\n",
    "sns.lineplot(data=yy, x=\"year\", y=\"num_sold\", hue=\"country\")"
   ]
  },
  {
   "cell_type": "code",
   "execution_count": 9,
   "id": "b87194fd",
   "metadata": {
    "execution": {
     "iopub.execute_input": "2022-09-15T17:25:40.927255Z",
     "iopub.status.busy": "2022-09-15T17:25:40.926659Z",
     "iopub.status.idle": "2022-09-15T17:25:41.344014Z",
     "shell.execute_reply": "2022-09-15T17:25:41.342081Z"
    },
    "papermill": {
     "duration": 0.4355,
     "end_time": "2022-09-15T17:25:41.347522",
     "exception": false,
     "start_time": "2022-09-15T17:25:40.912022",
     "status": "completed"
    },
    "tags": []
   },
   "outputs": [],
   "source": [
    "qtO = QuantileTransformer(n_quantiles=100, random_state=0,output_distribution='normal')\n",
    "qtO.fit(train_df.num_sold.loc[(train_df.year == 2020) & (train_df.store == 'KaggleMart') ].values.reshape(-1, 1))\n",
    "        \n",
    "qtO2 = QuantileTransformer(n_quantiles=100, random_state=0,output_distribution='normal')\n",
    "qtO2.fit(train_df.num_sold.loc[(train_df.year == 2020) & (train_df.store == 'KaggleRama') ].values.reshape(-1, 1))\n",
    "\n",
    "for country in train_df.country.unique():\n",
    "    \n",
    "    qt = QuantileTransformer(n_quantiles=100, random_state=0,output_distribution='normal')\n",
    "    y_mod = qt.fit_transform(train_df.num_sold.loc[ (train_df.year < 2020) & (train_df.country == country)& (train_df.store == 'KaggleMart')].values.reshape(-1, 1))\n",
    "    train_df.loc[(train_df.year < 2020) & (train_df.country == country) & (train_df.store == 'KaggleMart'),'num_sold'] = qtO.inverse_transform(y_mod)\n",
    "    \n",
    "    qt = QuantileTransformer(n_quantiles=100, random_state=0,output_distribution='normal')\n",
    "    y_mod = qt.fit_transform(train_df.num_sold.loc[ (train_df.year < 2020) & (train_df.country == country)& (train_df.store == 'KaggleRama')].values.reshape(-1, 1))\n",
    "    train_df.loc[(train_df.year < 2020) & (train_df.country == country) & (train_df.store == 'KaggleRama'),'num_sold'] = qtO2.inverse_transform(y_mod)"
   ]
  },
  {
   "cell_type": "code",
   "execution_count": 10,
   "id": "b8944845",
   "metadata": {
    "execution": {
     "iopub.execute_input": "2022-09-15T17:25:41.375493Z",
     "iopub.status.busy": "2022-09-15T17:25:41.374975Z",
     "iopub.status.idle": "2022-09-15T17:25:41.768580Z",
     "shell.execute_reply": "2022-09-15T17:25:41.766666Z"
    },
    "papermill": {
     "duration": 0.411248,
     "end_time": "2022-09-15T17:25:41.771766",
     "exception": false,
     "start_time": "2022-09-15T17:25:41.360518",
     "status": "completed"
    },
    "tags": []
   },
   "outputs": [
    {
     "data": {
      "text/plain": [
       "<AxesSubplot:xlabel='year', ylabel='num_sold'>"
      ]
     },
     "execution_count": 10,
     "metadata": {},
     "output_type": "execute_result"
    },
    {
     "data": {
      "image/png": "[encoded data removed]",
      "text/plain": [
       "<Figure size 432x288 with 1 Axes>"
      ]
     },
     "metadata": {
      "needs_background": "light"
     },
     "output_type": "display_data"
    }
   ],
   "source": [
    "yy = train_df[['year','country','num_sold']].groupby(['year','country']).sum().reset_index().sort_values(by=['country','year'])\n",
    "sns.lineplot(data=yy, x=\"year\", y=\"num_sold\", hue=\"country\")"
   ]
  },
  {
   "cell_type": "code",
   "execution_count": 11,
   "id": "65aa437c",
   "metadata": {
    "execution": {
     "iopub.execute_input": "2022-09-15T17:25:41.801721Z",
     "iopub.status.busy": "2022-09-15T17:25:41.801190Z",
     "iopub.status.idle": "2022-09-15T17:25:41.810249Z",
     "shell.execute_reply": "2022-09-15T17:25:41.808427Z"
    },
    "papermill": {
     "duration": 0.027771,
     "end_time": "2022-09-15T17:25:41.813315",
     "exception": false,
     "start_time": "2022-09-15T17:25:41.785544",
     "status": "completed"
    },
    "tags": []
   },
   "outputs": [],
   "source": [
    "# function to optimize\n",
    "def smape(y,y_hat):\n",
    "    num = np.abs(y_hat-y)\n",
    "    den = (np.abs(y)+np.abs(y_hat))/2\n",
    "    return( (np.sum(num/den)/len(y))*100 ) "
   ]
  },
  {
   "cell_type": "markdown",
   "id": "9c6824ae",
   "metadata": {
    "papermill": {
     "duration": 0.013679,
     "end_time": "2022-09-15T17:25:41.840617",
     "exception": false,
     "start_time": "2022-09-15T17:25:41.826938",
     "status": "completed"
    },
    "tags": []
   },
   "source": [
    "# Splitting train and test"
   ]
  },
  {
   "cell_type": "markdown",
   "id": "189324a5",
   "metadata": {
    "papermill": {
     "duration": 0.012576,
     "end_time": "2022-09-15T17:25:41.866201",
     "exception": false,
     "start_time": "2022-09-15T17:25:41.853625",
     "status": "completed"
    },
    "tags": []
   },
   "source": [
    "I tried to let all data between 0-1 to improve the speed of convergence"
   ]
  },
  {
   "cell_type": "code",
   "execution_count": 12,
   "id": "287e51f6",
   "metadata": {
    "execution": {
     "iopub.execute_input": "2022-09-15T17:25:41.896366Z",
     "iopub.status.busy": "2022-09-15T17:25:41.895683Z",
     "iopub.status.idle": "2022-09-15T17:25:41.905089Z",
     "shell.execute_reply": "2022-09-15T17:25:41.903698Z"
    },
    "papermill": {
     "duration": 0.027989,
     "end_time": "2022-09-15T17:25:41.908658",
     "exception": false,
     "start_time": "2022-09-15T17:25:41.880669",
     "status": "completed"
    },
    "tags": []
   },
   "outputs": [
    {
     "data": {
      "text/plain": [
       "array([0., 0., 0., 0., 0., 0., 0., 1., 1., 1., 1., 1., 1., 1.])"
      ]
     },
     "execution_count": 12,
     "metadata": {},
     "output_type": "execute_result"
    }
   ],
   "source": [
    "np.floor(np.arange(14)/7)"
   ]
  },
  {
   "cell_type": "code",
   "execution_count": 13,
   "id": "bcc57671",
   "metadata": {
    "execution": {
     "iopub.execute_input": "2022-09-15T17:25:41.937426Z",
     "iopub.status.busy": "2022-09-15T17:25:41.936929Z",
     "iopub.status.idle": "2022-09-15T17:25:42.043645Z",
     "shell.execute_reply": "2022-09-15T17:25:42.041667Z"
    },
    "papermill": {
     "duration": 0.125821,
     "end_time": "2022-09-15T17:25:42.047736",
     "exception": false,
     "start_time": "2022-09-15T17:25:41.921915",
     "status": "completed"
    },
    "tags": []
   },
   "outputs": [],
   "source": [
    "nomes =['day_of_year','day_of_week','day','month','store','product','country']\n",
    "\n",
    "# I removed this data to avoid the problems in normalization in the data\n",
    "train_df = train_df.loc[train_df.date != '2020-02-29' ]\n",
    "\n",
    "train_df.loc[(train_df.day_of_year > 60) & (train_df.year == 2020),'day_of_year'] = train_df.day_of_year.loc[(train_df.day_of_year > 60) & (train_df.year == 2020)].values -1\n",
    "\n",
    "train_df['c_day'] = np.floor(train_df['day']/7)/5\n",
    "train_df['week'] = np.floor(train_df['day_of_year']/7)/53\n",
    "\n",
    "train_df['day_of_year'] = (train_df['day_of_year'])/365\n",
    "train_df['day_of_week'] = train_df['day_of_week']/6\n",
    "train_df['day'] = train_df['day']/31\n",
    "train_df['month'] = train_df['month']/12\n",
    "\n",
    "\n",
    "\n",
    "col = 'store'\n",
    "train_df[col] = train_df[col].astype(\"category\").cat.codes\n",
    "col = 'product'\n",
    "train_df[col] = (train_df[col].astype(\"category\").cat.codes)/5\n",
    "col = 'country'\n",
    "train_df[col] = train_df[col].astype(\"category\").cat.codes/6\n",
    "\n",
    "# test\n",
    "test_df['c_day'] = (np.floor(test_df['day']/7))/5\n",
    "test_df['week'] = (np.floor(test_df['day_of_year']/7))/53\n",
    "\n",
    "\n",
    "test_df['day_of_year'] = (test_df['day_of_year'])/365\n",
    "test_df['day_of_week'] = test_df['day_of_week']/6\n",
    "test_df['day'] = test_df['day']/31\n",
    "test_df['month'] = test_df['month']/12\n",
    "\n",
    "\n",
    "col = 'store'\n",
    "test_df[col] = test_df[col].astype(\"category\").cat.codes\n",
    "col = 'product'\n",
    "test_df[col] = (test_df[col].astype(\"category\").cat.codes)/5\n",
    "col = 'country'\n",
    "test_df[col] = test_df[col].astype(\"category\").cat.codes/6\n",
    "\n",
    "\n",
    "\n",
    "train_data = train_df.loc[ (train_df.year == 2019)]\n",
    "test_data = train_df.loc[train_df.year == 2020]"
   ]
  },
  {
   "cell_type": "code",
   "execution_count": 14,
   "id": "5a5b176f",
   "metadata": {
    "execution": {
     "iopub.execute_input": "2022-09-15T17:25:42.078714Z",
     "iopub.status.busy": "2022-09-15T17:25:42.078183Z",
     "iopub.status.idle": "2022-09-15T17:25:42.091049Z",
     "shell.execute_reply": "2022-09-15T17:25:42.089325Z"
    },
    "papermill": {
     "duration": 0.033224,
     "end_time": "2022-09-15T17:25:42.094392",
     "exception": false,
     "start_time": "2022-09-15T17:25:42.061168",
     "status": "completed"
    },
    "tags": []
   },
   "outputs": [],
   "source": [
    "count_day = train_data[['day_of_year','num_sold']].groupby('day_of_year').sum().reset_index()"
   ]
  },
  {
   "cell_type": "markdown",
   "id": "fa3a4503",
   "metadata": {
    "execution": {
     "iopub.execute_input": "2022-09-10T23:34:11.815759Z",
     "iopub.status.busy": "2022-09-10T23:34:11.815260Z",
     "iopub.status.idle": "2022-09-10T23:34:11.820419Z",
     "shell.execute_reply": "2022-09-10T23:34:11.819542Z",
     "shell.execute_reply.started": "2022-09-10T23:34:11.815719Z"
    },
    "papermill": {
     "duration": 0.014534,
     "end_time": "2022-09-15T17:25:42.122721",
     "exception": false,
     "start_time": "2022-09-15T17:25:42.108187",
     "status": "completed"
    },
    "tags": []
   },
   "source": [
    "# Features generation"
   ]
  },
  {
   "cell_type": "code",
   "execution_count": 15,
   "id": "46a3d202",
   "metadata": {
    "execution": {
     "iopub.execute_input": "2022-09-15T17:25:42.152900Z",
     "iopub.status.busy": "2022-09-15T17:25:42.152370Z",
     "iopub.status.idle": "2022-09-15T17:25:42.163966Z",
     "shell.execute_reply": "2022-09-15T17:25:42.162551Z"
    },
    "papermill": {
     "duration": 0.030975,
     "end_time": "2022-09-15T17:25:42.167372",
     "exception": false,
     "start_time": "2022-09-15T17:25:42.136397",
     "status": "completed"
    },
    "tags": []
   },
   "outputs": [],
   "source": [
    "count_day['std_d1'] = ((np.mean(count_day.num_sold)-1*np.std(count_day.num_sold))>count_day.num_sold)*1\n",
    "count_day['std_u3'] =((np.mean(count_day.num_sold)+3*np.std(count_day.num_sold))<count_day.num_sold)*1"
   ]
  },
  {
   "cell_type": "code",
   "execution_count": 16,
   "id": "8eefa00b",
   "metadata": {
    "_kg_hide-input": true,
    "_kg_hide-output": true,
    "execution": {
     "iopub.execute_input": "2022-09-15T17:25:42.198875Z",
     "iopub.status.busy": "2022-09-15T17:25:42.198324Z",
     "iopub.status.idle": "2022-09-15T17:25:42.723824Z",
     "shell.execute_reply": "2022-09-15T17:25:42.721575Z"
    },
    "papermill": {
     "duration": 0.545643,
     "end_time": "2022-09-15T17:25:42.727145",
     "exception": false,
     "start_time": "2022-09-15T17:25:42.181502",
     "status": "completed"
    },
    "tags": []
   },
   "outputs": [],
   "source": [
    "train_df =  train_df.loc[ (train_df.year == 2019) ]\n",
    "\n",
    "a =train_df[['store','num_sold','week']].groupby(['store','week']).sum().reset_index()\n",
    "b =train_df[['product','store','num_sold','week']].groupby(['week','product','store']).sum().reset_index()\n",
    "c1 = pd.merge(a,b,left_on=['store','week'],right_on=['store','week'])\n",
    "c1['r1']=c1['num_sold_y']/c1['num_sold_x']\n",
    "\n",
    "a = train_df[['store','num_sold','day_of_year']].groupby(['store','day_of_year']).sum().reset_index()\n",
    "b =train_df[['product','store','num_sold','day_of_year']].groupby(['day_of_year','product','store']).sum().reset_index()\n",
    "c2 = pd.merge(a,b,left_on=['store','day_of_year'],right_on=['store','day_of_year'])\n",
    "c2['r2']=c2['num_sold_y']/c2['num_sold_x']\n",
    "\n",
    "train_data = pd.merge(train_data,c1[['product','store','week','r1']].drop_duplicates(),how='left', on=['product','store','week'])\n",
    "test_data = pd.merge(test_data,c1[['product','store','week','r1']].drop_duplicates(),how='left', on=['product','store','week'])\n",
    "test_df = pd.merge(test_df,c1[['product','store','week','r1']].drop_duplicates(),how='left', on=['product','store','week'])\n",
    "\n",
    "train_data = pd.merge(train_data,c2[['product','store','day_of_year','r2']].drop_duplicates(),how='left', on=['product','store','day_of_year'])\n",
    "test_data = pd.merge(test_data,c2[['product','store','day_of_year','r2']].drop_duplicates(),how='left', on=['product','store','day_of_year'])\n",
    "test_df = pd.merge(test_df,c2[['product','store','day_of_year','r2']].drop_duplicates(),how='left', on=['product','store','day_of_year'])\n",
    "\n",
    "h1 = train_df[['month','day_of_week','num_sold']].groupby(['day_of_week','month']).agg(['min','max','mean','median']).reset_index()\n",
    "h2 = train_df[['month','product','num_sold']].groupby(['product','month']).agg(['min','max','mean','median']).reset_index()\n",
    "h3 = train_df[['month','store','num_sold']].groupby(['store','month']).agg(['min','max','mean','median']).reset_index()\n",
    "\n",
    "\n",
    "h1.columns = h1.columns.map('_A'.join).str.strip('_')\n",
    "h2.columns = h2.columns.map('_B'.join).str.strip('_')\n",
    "h3.columns = h3.columns.map('_C'.join).str.strip('_')\n",
    "\n",
    "for nn_nome in ['num_sold_Cmax','num_sold_Cmin']:\n",
    "    h3[nn_nome] = (h3[nn_nome] - h3[nn_nome].min())/ (h3[nn_nome].max() - h3[nn_nome].min())\n",
    "    h3[nn_nome] = np.log(h3[nn_nome]+1)\n",
    "    \n",
    "for nn_nome in ['num_sold_Bmean']:\n",
    "    h2[nn_nome] = (h2[nn_nome] - h2[nn_nome].min())/ (h2[nn_nome].max() - h2[nn_nome].min())\n",
    "    h2[nn_nome] = np.log(h2[nn_nome]+1)\n",
    "    \n",
    "for nn_nome in ['num_sold_Amean']:\n",
    "    h1[nn_nome] = (h1[nn_nome] - h1[nn_nome].min())/ (h1[nn_nome].max() - h1[nn_nome].min())\n",
    "    h1[nn_nome] = np.log(h1[nn_nome]+1)\n",
    "\n",
    "\n",
    "train_data = pd.merge(train_data,h1,how='left', left_on=['day_of_week','month'], right_on=['day_of_week_A','month_A'])\n",
    "train_data.drop('day_of_week_A',axis = 1,inplace=True)\n",
    "train_data.drop('month_A',axis = 1,inplace=True)\n",
    "\n",
    "test_data = pd.merge(test_data,h1,how='left', left_on=['day_of_week','month'], right_on=['day_of_week_A','month_A'])\n",
    "test_data.drop('day_of_week_A',axis = 1,inplace=True)\n",
    "test_data.drop('month_A',axis = 1,inplace=True)\n",
    "\n",
    "test_df = pd.merge(test_df,h1,how='left', left_on=['day_of_week','month'], right_on=['day_of_week_A','month_A'])\n",
    "test_df.drop('day_of_week_A',axis = 1,inplace=True)\n",
    "test_df.drop('month_A',axis = 1,inplace=True)\n",
    "\n",
    "\n",
    "train_data = pd.merge(train_data,h2,how='left', left_on=['product','month'], right_on=['product_B','month_B'])\n",
    "train_data.drop('month_B',axis = 1,inplace=True)\n",
    "train_data.drop('product_B',axis = 1,inplace=True)\n",
    "\n",
    "test_data = pd.merge(test_data,h2,how='left', left_on=['product','month'], right_on=['product_B','month_B'])\n",
    "test_data.drop('month_B',axis = 1,inplace=True)\n",
    "test_data.drop('product_B',axis = 1,inplace=True)\n",
    "\n",
    "test_df = pd.merge(test_df,h2,how='left', left_on=['product','month'], right_on=['product_B','month_B'])\n",
    "test_df.drop('month_B',axis = 1,inplace=True)\n",
    "test_df.drop('product_B',axis = 1,inplace=True)\n",
    "\n",
    "train_data = pd.merge(train_data,h3,how='left', left_on=['store','month'], right_on=['store_C','month_C'])\n",
    "train_data.drop('month_C',axis = 1,inplace=True)\n",
    "train_data.drop('store_C',axis = 1,inplace=True)\n",
    "\n",
    "test_data = pd.merge(test_data,h3,how='left', left_on=['store','month'], right_on=['store_C','month_C'])\n",
    "test_data.drop('month_C',axis = 1,inplace=True)\n",
    "test_data.drop('store_C',axis = 1,inplace=True)\n",
    "\n",
    "test_df = pd.merge(test_df,h3,how='left', left_on=['store','month'], right_on=['store_C','month_C'])\n",
    "test_df.drop('month_C',axis = 1,inplace=True)\n",
    "test_df.drop('store_C',axis = 1,inplace=True)\n",
    "\n",
    "train_data['sin'] = np.sin(train_data.day_of_year*2*np.pi)\n",
    "train_data['2sin'] = np.sin(train_data.day_of_year*4*np.pi)\n",
    "train_data['sin1'] = np.sin(train_data.day_of_year*np.pi)\n",
    "train_data['sin2'] = np.sin(train_data.day_of_year*0.5*np.pi)\n",
    "\n",
    "test_data['sin'] = np.sin(test_data.day_of_year*2*np.pi)\n",
    "test_data['2sin'] = np.sin(test_data.day_of_year*4*np.pi)\n",
    "test_data['sin1'] = np.sin(test_data.day_of_year*np.pi)\n",
    "test_data['sin2'] = np.sin(test_data.day_of_year*0.5*np.pi)\n",
    "\n",
    "test_df['sin'] = np.sin(test_df.day_of_year*2*np.pi)\n",
    "test_df['2sin'] = np.sin(test_df.day_of_year*4*np.pi)\n",
    "test_df['sin1'] = np.sin(test_df.day_of_year*np.pi)\n",
    "test_df['sin2'] = np.sin(test_df.day_of_year*0.5*np.pi)\n",
    "\n",
    "#https://www.kaggle.com/code/hasanbasriakcay/tpssep22-insightful-eda-fe-gdp-covid19/notebook\n",
    "# insight of cos52 and cos1\n",
    "\n",
    "test_df['cos'] = np.cos(test_df.day_of_year*2*np.pi)\n",
    "test_data['cos'] = np.cos(test_data.day_of_year*2*np.pi)\n",
    "train_data['cos'] = np.cos(train_data.day_of_year*2*np.pi)\n",
    "\n",
    "\n",
    "\n",
    "train_data = pd.merge(train_data,count_day[['day_of_year','std_d1','std_u3']],how='left', on=['day_of_year'])\n",
    "test_data = pd.merge(test_data,count_day[['day_of_year','std_d1','std_u3']],how='left', on=['day_of_year'])\n",
    "test_df = pd.merge(test_df,count_day[['day_of_year','std_d1','std_u3']],how='left', on=['day_of_year'])\n"
   ]
  },
  {
   "cell_type": "markdown",
   "id": "37f8b921",
   "metadata": {
    "execution": {
     "iopub.execute_input": "2022-09-10T01:03:04.08171Z",
     "iopub.status.busy": "2022-09-10T01:03:04.081282Z",
     "iopub.status.idle": "2022-09-10T01:03:04.099376Z",
     "shell.execute_reply": "2022-09-10T01:03:04.098016Z",
     "shell.execute_reply.started": "2022-09-10T01:03:04.08167Z"
    },
    "papermill": {
     "duration": 0.014626,
     "end_time": "2022-09-15T17:25:42.755968",
     "exception": false,
     "start_time": "2022-09-15T17:25:42.741342",
     "status": "completed"
    },
    "tags": []
   },
   "source": [
    "The features that will be used are below. \n",
    "\n",
    "I got them from the importance of a LGBM trained model"
   ]
  },
  {
   "cell_type": "code",
   "execution_count": 17,
   "id": "59041ae8",
   "metadata": {
    "execution": {
     "iopub.execute_input": "2022-09-15T17:25:42.786646Z",
     "iopub.status.busy": "2022-09-15T17:25:42.786137Z",
     "iopub.status.idle": "2022-09-15T17:25:42.795125Z",
     "shell.execute_reply": "2022-09-15T17:25:42.793464Z"
    },
    "papermill": {
     "duration": 0.027986,
     "end_time": "2022-09-15T17:25:42.797836",
     "exception": false,
     "start_time": "2022-09-15T17:25:42.769850",
     "status": "completed"
    },
    "tags": []
   },
   "outputs": [],
   "source": [
    "nomes.append('r1')\n",
    "nomes.append('r2')\n",
    "\n",
    "nomes.append('num_sold_Cmax')\n",
    "nomes.append('num_sold_Amean')\n",
    "nomes.append('num_sold_Cmin')\n",
    "nomes.append('num_sold_Bmean')\n",
    "\n",
    "nomes.append('c_day')\n",
    "nomes.append('week')\n",
    "\n",
    "nomes.append('sin')\n",
    "nomes.append('2sin')\n",
    "nomes.append('sin2')\n",
    "nomes.append('sin1')\n",
    "\n",
    "nomes.append('cos')"
   ]
  },
  {
   "cell_type": "code",
   "execution_count": 18,
   "id": "5d5253d1",
   "metadata": {
    "execution": {
     "iopub.execute_input": "2022-09-15T17:25:42.827604Z",
     "iopub.status.busy": "2022-09-15T17:25:42.827053Z",
     "iopub.status.idle": "2022-09-15T17:25:42.883313Z",
     "shell.execute_reply": "2022-09-15T17:25:42.882141Z"
    },
    "papermill": {
     "duration": 0.075043,
     "end_time": "2022-09-15T17:25:42.886180",
     "exception": false,
     "start_time": "2022-09-15T17:25:42.811137",
     "status": "completed"
    },
    "tags": []
   },
   "outputs": [
    {
     "data": {
      "text/html": [
       "<div>\n",
       "<style scoped>\n",
       "    .dataframe tbody tr th:only-of-type {\n",
       "        vertical-align: middle;\n",
       "    }\n",
       "\n",
       "    .dataframe tbody tr th {\n",
       "        vertical-align: top;\n",
       "    }\n",
       "\n",
       "    .dataframe thead th {\n",
       "        text-align: right;\n",
       "    }\n",
       "</style>\n",
       "<table border=\"1\" class=\"dataframe\">\n",
       "  <thead>\n",
       "    <tr style=\"text-align: right;\">\n",
       "      <th></th>\n",
       "      <th>day_of_year</th>\n",
       "      <th>day_of_week</th>\n",
       "      <th>day</th>\n",
       "      <th>month</th>\n",
       "      <th>store</th>\n",
       "      <th>product</th>\n",
       "      <th>country</th>\n",
       "      <th>r1</th>\n",
       "      <th>r2</th>\n",
       "      <th>num_sold_Cmax</th>\n",
       "      <th>num_sold_Amean</th>\n",
       "      <th>num_sold_Cmin</th>\n",
       "      <th>num_sold_Bmean</th>\n",
       "      <th>c_day</th>\n",
       "      <th>week</th>\n",
       "      <th>sin</th>\n",
       "      <th>2sin</th>\n",
       "      <th>sin2</th>\n",
       "      <th>sin1</th>\n",
       "      <th>cos</th>\n",
       "    </tr>\n",
       "  </thead>\n",
       "  <tbody>\n",
       "    <tr>\n",
       "      <th>0</th>\n",
       "      <td>0.00274</td>\n",
       "      <td>0.333333</td>\n",
       "      <td>0.032258</td>\n",
       "      <td>0.083333</td>\n",
       "      <td>0</td>\n",
       "      <td>0.0</td>\n",
       "      <td>0.0</td>\n",
       "      <td>0.284162</td>\n",
       "      <td>0.275910</td>\n",
       "      <td>0.520103</td>\n",
       "      <td>0.3224</td>\n",
       "      <td>0.693147</td>\n",
       "      <td>0.606839</td>\n",
       "      <td>0.0</td>\n",
       "      <td>0.0</td>\n",
       "      <td>0.017213</td>\n",
       "      <td>0.034422</td>\n",
       "      <td>0.004304</td>\n",
       "      <td>0.008607</td>\n",
       "      <td>0.999852</td>\n",
       "    </tr>\n",
       "    <tr>\n",
       "      <th>1</th>\n",
       "      <td>0.00274</td>\n",
       "      <td>0.333333</td>\n",
       "      <td>0.032258</td>\n",
       "      <td>0.083333</td>\n",
       "      <td>0</td>\n",
       "      <td>0.2</td>\n",
       "      <td>0.0</td>\n",
       "      <td>0.228433</td>\n",
       "      <td>0.236789</td>\n",
       "      <td>0.520103</td>\n",
       "      <td>0.3224</td>\n",
       "      <td>0.693147</td>\n",
       "      <td>0.365537</td>\n",
       "      <td>0.0</td>\n",
       "      <td>0.0</td>\n",
       "      <td>0.017213</td>\n",
       "      <td>0.034422</td>\n",
       "      <td>0.004304</td>\n",
       "      <td>0.008607</td>\n",
       "      <td>0.999852</td>\n",
       "    </tr>\n",
       "    <tr>\n",
       "      <th>2</th>\n",
       "      <td>0.00274</td>\n",
       "      <td>0.333333</td>\n",
       "      <td>0.032258</td>\n",
       "      <td>0.083333</td>\n",
       "      <td>0</td>\n",
       "      <td>0.4</td>\n",
       "      <td>0.0</td>\n",
       "      <td>0.189790</td>\n",
       "      <td>0.191717</td>\n",
       "      <td>0.520103</td>\n",
       "      <td>0.3224</td>\n",
       "      <td>0.693147</td>\n",
       "      <td>0.248501</td>\n",
       "      <td>0.0</td>\n",
       "      <td>0.0</td>\n",
       "      <td>0.017213</td>\n",
       "      <td>0.034422</td>\n",
       "      <td>0.004304</td>\n",
       "      <td>0.008607</td>\n",
       "      <td>0.999852</td>\n",
       "    </tr>\n",
       "    <tr>\n",
       "      <th>3</th>\n",
       "      <td>0.00274</td>\n",
       "      <td>0.333333</td>\n",
       "      <td>0.032258</td>\n",
       "      <td>0.083333</td>\n",
       "      <td>0</td>\n",
       "      <td>0.6</td>\n",
       "      <td>0.0</td>\n",
       "      <td>0.297615</td>\n",
       "      <td>0.295584</td>\n",
       "      <td>0.520103</td>\n",
       "      <td>0.3224</td>\n",
       "      <td>0.693147</td>\n",
       "      <td>0.612585</td>\n",
       "      <td>0.0</td>\n",
       "      <td>0.0</td>\n",
       "      <td>0.017213</td>\n",
       "      <td>0.034422</td>\n",
       "      <td>0.004304</td>\n",
       "      <td>0.008607</td>\n",
       "      <td>0.999852</td>\n",
       "    </tr>\n",
       "    <tr>\n",
       "      <th>4</th>\n",
       "      <td>0.00274</td>\n",
       "      <td>0.333333</td>\n",
       "      <td>0.032258</td>\n",
       "      <td>0.083333</td>\n",
       "      <td>1</td>\n",
       "      <td>0.0</td>\n",
       "      <td>0.0</td>\n",
       "      <td>0.284409</td>\n",
       "      <td>0.285204</td>\n",
       "      <td>0.041499</td>\n",
       "      <td>0.3224</td>\n",
       "      <td>0.141801</td>\n",
       "      <td>0.606839</td>\n",
       "      <td>0.0</td>\n",
       "      <td>0.0</td>\n",
       "      <td>0.017213</td>\n",
       "      <td>0.034422</td>\n",
       "      <td>0.004304</td>\n",
       "      <td>0.008607</td>\n",
       "      <td>0.999852</td>\n",
       "    </tr>\n",
       "  </tbody>\n",
       "</table>\n",
       "</div>"
      ],
      "text/plain": [
       "   day_of_year  day_of_week       day     month  store  product  country  \\\n",
       "0      0.00274     0.333333  0.032258  0.083333      0      0.0      0.0   \n",
       "1      0.00274     0.333333  0.032258  0.083333      0      0.2      0.0   \n",
       "2      0.00274     0.333333  0.032258  0.083333      0      0.4      0.0   \n",
       "3      0.00274     0.333333  0.032258  0.083333      0      0.6      0.0   \n",
       "4      0.00274     0.333333  0.032258  0.083333      1      0.0      0.0   \n",
       "\n",
       "         r1        r2  num_sold_Cmax  num_sold_Amean  num_sold_Cmin  \\\n",
       "0  0.284162  0.275910       0.520103          0.3224       0.693147   \n",
       "1  0.228433  0.236789       0.520103          0.3224       0.693147   \n",
       "2  0.189790  0.191717       0.520103          0.3224       0.693147   \n",
       "3  0.297615  0.295584       0.520103          0.3224       0.693147   \n",
       "4  0.284409  0.285204       0.041499          0.3224       0.141801   \n",
       "\n",
       "   num_sold_Bmean  c_day  week       sin      2sin      sin2      sin1  \\\n",
       "0        0.606839    0.0   0.0  0.017213  0.034422  0.004304  0.008607   \n",
       "1        0.365537    0.0   0.0  0.017213  0.034422  0.004304  0.008607   \n",
       "2        0.248501    0.0   0.0  0.017213  0.034422  0.004304  0.008607   \n",
       "3        0.612585    0.0   0.0  0.017213  0.034422  0.004304  0.008607   \n",
       "4        0.606839    0.0   0.0  0.017213  0.034422  0.004304  0.008607   \n",
       "\n",
       "        cos  \n",
       "0  0.999852  \n",
       "1  0.999852  \n",
       "2  0.999852  \n",
       "3  0.999852  \n",
       "4  0.999852  "
      ]
     },
     "execution_count": 18,
     "metadata": {},
     "output_type": "execute_result"
    }
   ],
   "source": [
    "# printing the training data frame\n",
    "test_data[nomes].head()"
   ]
  },
  {
   "cell_type": "markdown",
   "id": "97cab5a2",
   "metadata": {
    "execution": {
     "iopub.execute_input": "2022-09-10T23:37:12.390571Z",
     "iopub.status.busy": "2022-09-10T23:37:12.390086Z",
     "iopub.status.idle": "2022-09-10T23:37:12.396804Z",
     "shell.execute_reply": "2022-09-10T23:37:12.395271Z",
     "shell.execute_reply.started": "2022-09-10T23:37:12.390534Z"
    },
    "papermill": {
     "duration": 0.013589,
     "end_time": "2022-09-15T17:25:42.913762",
     "exception": false,
     "start_time": "2022-09-15T17:25:42.900173",
     "status": "completed"
    },
    "tags": []
   },
   "source": [
    "# Loop with GBM"
   ]
  },
  {
   "cell_type": "markdown",
   "id": "92640c4a",
   "metadata": {
    "papermill": {
     "duration": 0.013393,
     "end_time": "2022-09-15T17:25:42.941022",
     "exception": false,
     "start_time": "2022-09-15T17:25:42.927629",
     "status": "completed"
    },
    "tags": []
   },
   "source": [
    "Although GBMs are most used with tree models, we can use any weak learner to implement the algorithm, here we choose the GP optimizations to generate functions because the data has a high probability of coming from a math function, this increases the chances of a good fit."
   ]
  },
  {
   "cell_type": "code",
   "execution_count": 19,
   "id": "6f2e07a2",
   "metadata": {},
   "outputs": [],
   "source": [
    "import copy as copy"
   ]
  },
  {
   "cell_type": "code",
   "execution_count": null,
   "id": "758d6d73",
   "metadata": {
    "execution": {
     "iopub.execute_input": "2022-09-15T17:25:42.971266Z",
     "iopub.status.busy": "2022-09-15T17:25:42.970417Z",
     "iopub.status.idle": "2022-09-16T03:42:50.220068Z",
     "shell.execute_reply": "2022-09-16T03:42:50.218413Z"
    },
    "papermill": {
     "duration": 37027.268856,
     "end_time": "2022-09-16T03:42:50.223748",
     "exception": false,
     "start_time": "2022-09-15T17:25:42.954892",
     "status": "completed"
    },
    "tags": []
   },
   "outputs": [
    {
     "name": "stdout",
     "output_type": "stream",
     "text": [
      "The model improved update.  Iteration : 0\n",
      "SMAPE boost:  163.82554448571972  SMAPE boost val:  163.42714110610157\n",
      "The model improved update.  Iteration : 1\n",
      "SMAPE boost:  136.52638452465453  SMAPE boost val:  136.05361465114726\n",
      "The model improved update.  Iteration : 2\n",
      "SMAPE boost:  115.5837847815556  SMAPE boost val:  115.05050866295205\n",
      "The model improved update.  Iteration : 3\n",
      "SMAPE boost:  97.96096162210453  SMAPE boost val:  97.53320285650045\n",
      "The model improved update.  Iteration : 4\n",
      "SMAPE boost:  85.27501656373099  SMAPE boost val:  84.99791677541626\n",
      "The model improved update.  Iteration : 5\n",
      "SMAPE boost:  73.07772444896601  SMAPE boost val:  73.11605830425817\n",
      "The model improved update.  Iteration : 6\n",
      "SMAPE boost:  62.56126745185823  SMAPE boost val:  62.950438331494375\n",
      "The model improved update.  Iteration : 7\n",
      "SMAPE boost:  53.88800073752117  SMAPE boost val:  54.51616006399534\n",
      "The model improved update.  Iteration : 8\n",
      "SMAPE boost:  47.42367617680499  SMAPE boost val:  48.22759497082263\n",
      "The model improved update.  Iteration : 9\n",
      "SMAPE boost:  42.44447127389201  SMAPE boost val:  43.36306271276273\n",
      "The model improved update.  Iteration : 10\n",
      "SMAPE boost:  37.21741582920145  SMAPE boost val:  38.27894436383075\n",
      "The model improved update.  Iteration : 11\n",
      "SMAPE boost:  33.25393835791709  SMAPE boost val:  34.421363981133055\n",
      "The model improved update.  Iteration : 12\n",
      "SMAPE boost:  29.973656190178083  SMAPE boost val:  31.30575204408422\n",
      "The model improved update.  Iteration : 13\n",
      "SMAPE boost:  26.907138318846595  SMAPE boost val:  28.473861211764422\n",
      "The model improved update.  Iteration : 14\n",
      "SMAPE boost:  24.20173469676224  SMAPE boost val:  25.994549091788176\n",
      "The model improved update.  Iteration : 15\n",
      "SMAPE boost:  21.888880124563187  SMAPE boost val:  23.898898825418087\n",
      "The model improved update.  Iteration : 16\n",
      "SMAPE boost:  19.99801016172715  SMAPE boost val:  22.20837846696339\n",
      "The model improved update.  Iteration : 17\n",
      "SMAPE boost:  18.42340011676017  SMAPE boost val:  20.980328982092562\n",
      "The model improved update.  Iteration : 18\n",
      "SMAPE boost:  17.10008549391263  SMAPE boost val:  19.869151111156384\n",
      "The model improved update.  Iteration : 19\n",
      "SMAPE boost:  15.952575903753367  SMAPE boost val:  18.89543819635203\n",
      "The model improved update.  Iteration : 20\n",
      "SMAPE boost:  14.919364827186904  SMAPE boost val:  18.04654903555777\n",
      "The model improved update.  Iteration : 21\n",
      "SMAPE boost:  14.060013516667391  SMAPE boost val:  17.331304810961218\n",
      "The model improved update.  Iteration : 22\n",
      "SMAPE boost:  13.190321589990841  SMAPE boost val:  16.597981109778832\n",
      "The model improved update.  Iteration : 23\n",
      "SMAPE boost:  12.629222537624015  SMAPE boost val:  16.21035167824149\n",
      "The model improved update.  Iteration : 24\n",
      "SMAPE boost:  12.106475981526739  SMAPE boost val:  15.758209235742099\n",
      "The model improved update.  Iteration : 25\n",
      "SMAPE boost:  11.65861809758031  SMAPE boost val:  15.395349761719915\n",
      "The model improved update.  Iteration : 26\n",
      "SMAPE boost:  11.265511359188327  SMAPE boost val:  15.072786469686866\n",
      "The model improved update.  Iteration : 27\n",
      "SMAPE boost:  10.972864725151593  SMAPE boost val:  14.83015982286714\n",
      "The model improved update.  Iteration : 28\n",
      "SMAPE boost:  10.669332725388191  SMAPE boost val:  14.606979985201665\n",
      "The model improved update.  Iteration : 29\n",
      "SMAPE boost:  10.455223327302349  SMAPE boost val:  14.425258791073972\n",
      "The model improved update.  Iteration : 30\n",
      "SMAPE boost:  10.269133301997876  SMAPE boost val:  14.268071301115635\n",
      "The model improved update.  Iteration : 31\n",
      "SMAPE boost:  10.082205933143046  SMAPE boost val:  14.108703489904272\n"
     ]
    }
   ],
   "source": [
    "mse_model = 1000\n",
    "mse_model_val = 1000\n",
    "\n",
    "#GP boosting\n",
    "\n",
    "#0.1 # learning rate\n",
    "LR = 0.1\n",
    "\n",
    "\n",
    "# removing mean and scaling the output\n",
    "mm = np.mean(train_data.num_sold.values)\n",
    "\n",
    "yt = (train_data.num_sold.values - mm)\n",
    "mmin = np.min(yt)\n",
    "yt = yt-np.min(yt)\n",
    "mmax = np.max(yt)\n",
    "yt = yt/mmax\n",
    "yt = np.log(yt+1)\n",
    "\n",
    "orig_yt = copy.copy(yt)\n",
    "\n",
    "yv = (test_data.num_sold.values - mm)\n",
    "yv = (yv-mmin)/mmax\n",
    "\n",
    "yv = yv=np.log(yv+1)\n",
    "orig_yv = copy.copy(yv)\n",
    "\n",
    "# available functions\n",
    "func = [np.add, np.subtract, np.multiply,np.minimum,np.maximum]# np.hypot, np.arctan2, np.logaddexp,]\n",
    "\n",
    "# create input vector\n",
    "v = []\n",
    "v_validation = []\n",
    "y_test = []\n",
    "# % validation\n",
    "\n",
    "for var_nome in nomes:\n",
    "\n",
    "    v.append(train_data [var_nome].values)   \n",
    "    v_validation.append(test_data[var_nome].values)   \n",
    "    y_test.append(test_df[var_nome].values)   \n",
    "    \n",
    "    \n",
    "c=[-2,-0.5,-0.1,0.1,0.5,2,np.pi]\n",
    "maxDeep = 3    \n",
    "\n",
    "y_hat_reg = 0\n",
    "y_hat_val = 0\n",
    "y_predict = 0\n",
    "\n",
    "train_evo = []\n",
    "test_evo = []\n",
    "# GBM loop\n",
    "\n",
    "for n in range(500):\n",
    "        \n",
    "    gclass = GeneticPrograming(2, maxDeep,v,func,c,yt)\n",
    "    gclass.run(50,1000)\n",
    "\n",
    "    #get the best individual\n",
    "    \n",
    "    flag = 0\n",
    "    # for trying the best 5 solutions in the current update\n",
    "    order = np.argsort(gclass.solEval)\n",
    "    \n",
    "    for n_i in range(5):\n",
    "        \n",
    "        best = order[n_i]\n",
    "\n",
    "        y_hat = gclass.evaluateTree(gclass.candidates[best])    \n",
    "        y_val = gclass.evaluateTreeInput(gclass.candidates[best],v_validation)\n",
    "\n",
    "        # check if the model improved the solution on train and validation\n",
    "\n",
    "        mse_boost = smape( orig_yt, y_hat_reg+y_hat*LR)\n",
    "        mse_boost_val = smape(orig_yv, y_hat_val+y_val*LR)    \n",
    "        \n",
    "        if (mse_model > mse_boost) & (mse_model_val > mse_boost_val):\n",
    "            flag = 1\n",
    "            break\n",
    "            \n",
    "    train_evo.append(mse_boost)\n",
    "    test_evo.append(mse_boost_val)    \n",
    "    \n",
    "    if (flag):\n",
    "        \n",
    "        print('The model improved update. ','Iteration :', n)\n",
    "            \n",
    "        mse_model = copy.copy(mse_boost)\n",
    "        yt = yt-y_hat*LR   # new error      \n",
    "        y_hat_reg = y_hat_reg+y_hat*LR # new prev        \n",
    "        \n",
    "        mse_model_val = copy.copy(mse_boost_val)\n",
    "        y_hat_val = y_hat_val+y_val*LR\n",
    "        print('SMAPE boost: ',mse_boost ,' SMAPE boost val: ',mse_boost_val )\n",
    "\n",
    "        y_predict += gclass.evaluateTreeInput(gclass.candidates[best],y_test)*LR\n",
    "        \n",
    "    else:\n",
    "        print('The model did not improve, do nothing. ','Iteration :', n)\n",
    "        print( 'train: ' ,mse_boost,'-', mse_model, 'test: ', mse_boost_val,'>', mse_model_val)\n",
    "    \n",
    "    if (n == 250):\n",
    "        LR = 0.05# update learning rate\n",
    "    elif (n == 500):\n",
    "        LR = 0.025# update learning rate\n",
    "    elif (n == 750):\n",
    "        LR = 0.005# update learning rate\n",
    "\n",
    "# plot train and validation functions and estimated data\n",
    "plt.plot(train_data.num_sold.values )\n",
    "plt.title('Train' )\n",
    "plt.ylabel('target')\n",
    "plt.plot( ((np.exp(y_hat_reg)-1)*mmax + mmin)+ mm,'--')\n",
    "plt.show()\n",
    "\n",
    "plt.plot(test_data.num_sold.values)\n",
    "plt.title('Test' )\n",
    "plt.ylabel('target')\n",
    "plt.plot( ((np.exp(y_hat_val)-1)*mmax+mmin) + mm,'--')\n",
    "plt.show()\n",
    "\n",
    "\n",
    "\n",
    "\n",
    "plt.plot(train_evo)\n",
    "plt.title('Error evolution' )\n",
    "plt.ylabel('SMAPE')\n",
    "plt.xlabel('epochs')\n",
    "plt.plot(test_evo,'--')\n",
    "plt.show()"
   ]
  },
  {
   "cell_type": "code",
   "execution_count": null,
   "id": "97d051a6",
   "metadata": {
    "execution": {
     "iopub.execute_input": "2022-09-16T03:42:50.308784Z",
     "iopub.status.busy": "2022-09-16T03:42:50.308079Z",
     "iopub.status.idle": "2022-09-16T03:42:50.317421Z",
     "shell.execute_reply": "2022-09-16T03:42:50.316582Z"
    },
    "papermill": {
     "duration": 0.05448,
     "end_time": "2022-09-16T03:42:50.319409",
     "exception": false,
     "start_time": "2022-09-16T03:42:50.264929",
     "status": "completed"
    },
    "tags": []
   },
   "outputs": [],
   "source": [
    "smape( test_data.num_sold.values, ((np.exp(y_hat_val)-1)*mmax+mmin) + mm)"
   ]
  },
  {
   "cell_type": "code",
   "execution_count": null,
   "id": "ec311b3e",
   "metadata": {
    "execution": {
     "iopub.execute_input": "2022-09-16T03:42:50.402852Z",
     "iopub.status.busy": "2022-09-16T03:42:50.402028Z",
     "iopub.status.idle": "2022-09-16T03:42:50.413483Z",
     "shell.execute_reply": "2022-09-16T03:42:50.412555Z"
    },
    "papermill": {
     "duration": 0.057145,
     "end_time": "2022-09-16T03:42:50.416033",
     "exception": false,
     "start_time": "2022-09-16T03:42:50.358888",
     "status": "completed"
    },
    "tags": []
   },
   "outputs": [],
   "source": [
    "# commit\n",
    "test_df['num_sold']= (((np.exp(y_predict)-1)*mmax+mmin) + mm)\n",
    "\n",
    "# growth factor --- the multiplication helps improve the score by a factor between 0.2 and 0.4\n",
    "test_df['num_sold'] = test_df['num_sold']*1.025"
   ]
  },
  {
   "cell_type": "code",
   "execution_count": null,
   "id": "f3d865f6",
   "metadata": {
    "execution": {
     "iopub.execute_input": "2022-09-16T03:42:50.497749Z",
     "iopub.status.busy": "2022-09-16T03:42:50.496747Z",
     "iopub.status.idle": "2022-09-16T03:42:50.580025Z",
     "shell.execute_reply": "2022-09-16T03:42:50.578948Z"
    },
    "papermill": {
     "duration": 0.126358,
     "end_time": "2022-09-16T03:42:50.582639",
     "exception": false,
     "start_time": "2022-09-16T03:42:50.456281",
     "status": "completed"
    },
    "tags": []
   },
   "outputs": [],
   "source": [
    "test_df[['row_id','num_sold']].to_csv('submission.csv',index=False)"
   ]
  },
  {
   "cell_type": "code",
   "execution_count": null,
   "id": "de4ae2bd",
   "metadata": {
    "execution": {
     "iopub.execute_input": "2022-09-16T03:42:50.663628Z",
     "iopub.status.busy": "2022-09-16T03:42:50.662400Z",
     "iopub.status.idle": "2022-09-16T03:42:50.678937Z",
     "shell.execute_reply": "2022-09-16T03:42:50.677767Z"
    },
    "papermill": {
     "duration": 0.059117,
     "end_time": "2022-09-16T03:42:50.681187",
     "exception": false,
     "start_time": "2022-09-16T03:42:50.622070",
     "status": "completed"
    },
    "tags": []
   },
   "outputs": [],
   "source": [
    "test_df[['row_id','num_sold']]"
   ]
  }
 ],
 "metadata": {
  "kernelspec": {
   "display_name": "Python 3 (ipykernel)",
   "language": "python",
   "name": "python3"
  },
  "language_info": {
   "codemirror_mode": {
    "name": "ipython",
    "version": 3
   },
   "file_extension": ".py",
   "mimetype": "text/x-python",
   "name": "python",
   "nbconvert_exporter": "python",
   "pygments_lexer": "ipython3",
   "version": "3.9.7"
  },
  "papermill": {
   "default_parameters": {},
   "duration": 37154.646237,
   "end_time": "2022-09-16T03:42:51.816300",
   "environment_variables": {},
   "exception": null,
   "input_path": "__notebook__.ipynb",
   "output_path": "__notebook__.ipynb",
   "parameters": {},
   "start_time": "2022-09-15T17:23:37.170063",
   "version": "2.3.4"
  }
 },
 "nbformat": 4,
 "nbformat_minor": 5
}
